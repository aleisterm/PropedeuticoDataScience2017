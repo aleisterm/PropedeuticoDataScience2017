{
 "cells": [
  {
   "cell_type": "markdown",
   "metadata": {},
   "source": [
    "# Parte 1. Teoria de Algebra Lineal y Optimizacion"
   ]
  },
  {
   "cell_type": "markdown",
   "metadata": {},
   "source": [
    "## 1. ¿Por qué una matriz equivale a una transformación lineal entre espacios vectoriales?"
   ]
  },
  {
   "cell_type": "markdown",
   "metadata": {},
   "source": [
    "Porque las matrices las podemos expresar como una combinación lineal de columnas de la matriz A, utilizando como pesos las entradas de un vector x.\n",
    "Es decir, si A es una matriz de *m* x *n*, con columnas $ a_1,a_2..., a_n $ que a su vez generan el espacio columna Col A (el conjunto de todas las combinaciones lineales de las columnas de A), entonces  el producto A*x* es la combinacion lineal de las columnas de A, utilizando como pesos a las entradas de x: $ Ax=[a_1,a_2,..., a_n]  \\begin{bmatrix}\n",
    "        x_1 \\\\\n",
    "        ... \\\\\n",
    "        x_n \\\\\n",
    "        \\end{bmatrix}\n",
    "        $ $=x_1a_1+x_2a_2+...+x_na_n$\n"
   ]
  },
  {
   "cell_type": "markdown",
   "metadata": {},
   "source": [
    "## 2. ¿Cuál es el efecto de transformación lineal de una matriz diagonal y el de una matriz ortogonal?"
   ]
  },
  {
   "cell_type": "markdown",
   "metadata": {},
   "source": [
    "El efecto de una transformacion lineal de una matriz diagonal con entradas de eigenvalores, sobre la matriz A es una rotacion seguida de un re-escalamiento. En el caso de una transformación de una matriz ortogonal, dicha transformación se trata de un giro o simetría respecto a un eje (en el caso de $\\mathbb R^2$). En el caso de $\\mathbb R^3$, es similar, pero se trata de un giro; una simetria respecto a un punto, eje o plano, o una composicion de un giro con una simetria respecto al plano perpendicular al eje de giro.\n"
   ]
  },
  {
   "cell_type": "markdown",
   "metadata": {},
   "source": [
    "## 3. ¿Qué es la descomposición en valores singulares de una matriz?"
   ]
  },
  {
   "cell_type": "markdown",
   "metadata": {},
   "source": [
    "La descomposición en valores singulares de una matriz es una manera de expresar una matriz A como el producto de tres matrices. Esto es, la matriz A de *m*x*n* se descompone como sigue: $$ A=UDV^T,$$ donde U y V son matrices ortogonales (e.g. $U^T=U^{-1})$, U es una matriz *m*x*n*, D es una matriz diagonal *n*x*n*, y V es una matriz de *n*x*n*. "
   ]
  },
  {
   "cell_type": "markdown",
   "metadata": {},
   "source": [
    "## 4. ¿Qué es diagonalizar una matriz y qué representan los eigenvalores?"
   ]
  },
  {
   "cell_type": "markdown",
   "metadata": {
    "collapsed": true
   },
   "source": [
    "Dada una matriz A, se dice que dicha matriz se diagonaliza si existe una matriz P que es invertible y una matriz diagonal D (una matriz con entradas en su diagonal y ceros en los demás espacios) tal que $A=PDP^{-1}$ \n",
    "Un vector **v** puede reescribirse en nuevas coordenadas como una combinacion lineal de vectores propios.\n",
    "Los eigenvalores representan un factor de escalamiento cuando ocurre esta transformación lineal que rota o cambia de coordenadas los vectores originales mediante su descomposicion en vectores propios. Es decir, los eigenvalores aumentan o reducen el tamaño de los vectores en las nuevas coordenadas determinadas por los eigenvectores."
   ]
  },
  {
   "cell_type": "markdown",
   "metadata": {
    "collapsed": true
   },
   "source": [
    "## 5. Intuitivamente, ¿qué son los eigenvectores?"
   ]
  },
  {
   "cell_type": "markdown",
   "metadata": {
    "collapsed": true
   },
   "source": [
    "Son aquellos vectores que capturan la \"información esencial\" de una matriz o arreglo de vectores. Por ello es que cuando ocurre una transformación lineal que rota o refleja un espacio, los vectores propios no son afectados por la transformación en cuanto a su dirección, sino solo en su escalamiento."
   ]
  },
  {
   "cell_type": "markdown",
   "metadata": {
    "collapsed": true
   },
   "source": [
    "## 6. ¿Cómo interpretas la descomposición en valores singulares como una composición de tres tipos de transformaciones lineales simples?"
   ]
  },
  {
   "cell_type": "markdown",
   "metadata": {
    "collapsed": true
   },
   "source": [
    "La descomposición SDV se puede interpretar como una clasificación o descomposición de la información que provee la matriz en las distintas dimensiones en las que se puede clasificar dicha información. Es una manera de encontrar las dimensiones que componen la matriz original mediante la descomposición de información en asociaciones entre renglones a columnas, columnas a renglón, y la fuerza relativa de cada dimensión."
   ]
  },
  {
   "cell_type": "markdown",
   "metadata": {
    "collapsed": true
   },
   "source": [
    "## 7. ¿Qué relación hay entre la descomposición en valores singulares y la diagonalización?"
   ]
  },
  {
   "cell_type": "markdown",
   "metadata": {
    "collapsed": true
   },
   "source": [
    "De la descomposición en valores singulares, obtenemos: $A=U\\Sigma V^T$\n",
    "Y de la descomposicion en eigenvectores obtenemos $A=X\\Lambda X^T$, donde A es una matriz simetrica, *U, V y X* son ortonormales (al multiplicar por su transpuesta, obtenemos la matriz identidad), y $\\Sigma$ y $\\Lambda$ son matrices diagonales.\n",
    "Cuando hacemos las descomposicion $AA^T=U\\Sigma V^T(U\\Sigma V^T)^T=U\\Sigma V^T(V\\Sigma^T U^T)=U\\Sigma \\Sigma^TU^T$\n",
    "Los vectores singulares de la descomposicion SDV son los eigenvectores de $AA^T$ con eigenvalores $\\lambda_i=\\sigma_i^2$ "
   ]
  },
  {
   "cell_type": "markdown",
   "metadata": {},
   "source": [
    "## 8. ¿Cómo se usa la descomposición en valores singulares para dar un aproximación de rango menor a una matriz?"
   ]
  },
  {
   "cell_type": "markdown",
   "metadata": {
    "collapsed": true
   },
   "source": [
    "En esencia, la descomposicion SDV nos da informacion para obtener el mejor y menor numero de dimensiones que representan dichos datos. La mejor proyeccion de los datos en un numero reducido de dimensiones. Los valores singulares mas pequenos de la matriz diagonal $\\Sigma$ se hacen cero (que implica tambien que reducir el numero de vectores singulares o renglones de $U$ y $V^T$)"
   ]
  },
  {
   "cell_type": "markdown",
   "metadata": {},
   "source": [
    "## 9. Describe el método de minimización por descenso gradiente"
   ]
  },
  {
   "cell_type": "markdown",
   "metadata": {
    "collapsed": true
   },
   "source": [
    "Es un método de optimización en el cual, para encontrar el valor que maximiza o minimiza una función, se determina una constante $\\alpha$ llamada también tamaño de paso,z| y entonces el cálculo de un mínimo local se realiza mediante operaciones lineales hasta que se logra una convergencia.\n",
    "Este método consta de dos pasos que se iteran: primero se calcula el gradiente de la función que se quiere minimizar y se evalúa en el punto de partida (arbitrario) o en el de la k-ésima iteración. Luego se obtiene el valor del tamaño de paso, que es cuánto se avanza en la dirección determinada por el gradiente. Con este cálculo se actualiza la coordenada. Se alcanza un óptimo cuando la dirección de descenso de la k-ésima iteración es cero. "
   ]
  },
  {
   "cell_type": "markdown",
   "metadata": {},
   "source": [
    "## 10. Menciona 4 ejemplos de problemas de optimización (dos con restricciones y dos sin restricciones) que te parecan interesantes como Científico de Datos"
   ]
  },
  {
   "cell_type": "markdown",
   "metadata": {
    "collapsed": true
   },
   "source": [
    "Un problema que me parece interesante es calcular la probabilidad de ocurrencia de delitos a través de algún modelo predictivo que maximice la probabilidad de ocurrencia de dicho evento, en función de distintas variables socioeconómicas, en alguna geografía. En este caso,  pienso la restricción como una restricción geográfica.\n",
    "En planeación urbana, me interesan problemas de optimización de provisión y pricing de recursos (i.e. agua o transporte público) que están sujetas a restricciones de oferta (el agua que llega a la Cdmx es limitada; número de autobuses limitados), con restricciones de infraestructura (calles, tuberías), o incluso de ingreso en ciertos segmentos de la población.\n",
    "Un problema de optimización sin restricciones que me llama la atención es el cálculo de probabilidad de votos para distintos grupos socioeconómicos que conduce a enfocar de mejor manera una campaña electoral. En retail, también me interesan los problemas de optimización que involucran focalizar sugerencias de compras a ciertos segmentos.\n"
   ]
  },
  {
   "cell_type": "markdown",
   "metadata": {},
   "source": [
    "# Parte 2 Aplicaciones en Python"
   ]
  },
  {
   "cell_type": "code",
   "execution_count": 1,
   "metadata": {
    "collapsed": false
   },
   "outputs": [],
   "source": [
    "%matplotlib inline\n",
    "import matplotlib.pyplot as plt\n",
    "import numpy as np\n",
    "import time\n",
    "from PIL import Image\n",
    "import StringIO\n",
    "import urllib2\n",
    "import pandas as pd"
   ]
  },
  {
   "cell_type": "markdown",
   "metadata": {},
   "source": [
    "#Segui el codigo de http://www.frankcleary.com/svdimage/"
   ]
  },
  {
   "cell_type": "code",
   "execution_count": 38,
   "metadata": {
    "collapsed": true
   },
   "outputs": [],
   "source": [
    "img = urllib2.urlopen(\"http://www.pngmart.com/files/1/Black-Sword-PNG-HD.png\").read()"
   ]
  },
  {
   "cell_type": "code",
   "execution_count": 39,
   "metadata": {
    "collapsed": false
   },
   "outputs": [
    {
     "name": "stdout",
     "output_type": "stream",
     "text": [
      "ok\n"
     ]
    }
   ],
   "source": [
    "#Para ver si la imagen la lee python y no genera ningun error\n",
    "try:\n",
    "    im = Image.open(StringIO.StringIO(img))\n",
    "    im.verify()\n",
    "    print(\"ok\")\n",
    "except Exception, e:\n",
    "    print(\"image not valid\")"
   ]
  },
  {
   "cell_type": "code",
   "execution_count": 43,
   "metadata": {
    "collapsed": false,
    "scrolled": true
   },
   "outputs": [],
   "source": [
    "import urllib, cStringIO\n",
    "file = cStringIO.StringIO(urllib.urlopen(\"http://www.pngmart.com/files/1/Black-Sword-PNG-HD.png\").read())\n",
    "img = Image.open(file)\n"
   ]
  },
  {
   "cell_type": "markdown",
   "metadata": {},
   "source": [
    "### IMAGEN ORIGINAL"
   ]
  },
  {
   "cell_type": "code",
   "execution_count": 56,
   "metadata": {
    "collapsed": false
   },
   "outputs": [
    {
     "data": {
      "image/png": "[encoded data removed]",
      "text/plain": [
       "<matplotlib.figure.Figure at 0x8db3828>"
      ]
     },
     "metadata": {},
     "output_type": "display_data"
    }
   ],
   "source": [
    "imgmat = np.array(list(img.getdata(band=0)), float)\n",
    "imgmat.shape = (img.size[1], img.size[0])\n",
    "imgmat = np.matrix(imgmat)\n",
    "plt.figure(figsize=(9,6))\n",
    "plt.imshow(imgmat, cmap='gray');"
   ]
  },
  {
   "cell_type": "code",
   "execution_count": 57,
   "metadata": {
    "collapsed": true
   },
   "outputs": [],
   "source": [
    "U, sigma, V = np.linalg.svd(imgmat)"
   ]
  },
  {
   "cell_type": "markdown",
   "metadata": {},
   "source": [
    "#### Aqui se prueba la reconstruccion de la imagen utilizando el primer vector singular de U y V"
   ]
  },
  {
   "cell_type": "code",
   "execution_count": 60,
   "metadata": {
    "collapsed": false
   },
   "outputs": [
    {
     "data": {
      "image/png": "[encoded data removed]",
      "text/plain": [
       "<matplotlib.figure.Figure at 0x1bf769b0>"
      ]
     },
     "metadata": {},
     "output_type": "display_data"
    }
   ],
   "source": [
    "recons_img = np.matrix(U[:, :1]) * np.diag(sigma[:1]) * np.matrix(V[:1, :])\n",
    "plt.imshow(recons_img, cmap='gray');"
   ]
  },
  {
   "cell_type": "markdown",
   "metadata": {},
   "source": [
    "#### Ahora con vectores sucesivos hasta 40"
   ]
  },
  {
   "cell_type": "code",
   "execution_count": 62,
   "metadata": {
    "collapsed": false
   },
   "outputs": [
    {
     "data": {
      "image/png": "[encoded data removed]",
      "text/plain": [
       "<matplotlib.figure.Figure at 0x1be9f748>"
      ]
     },
     "metadata": {},
     "output_type": "display_data"
    },
    {
     "data": {
      "image/png": "[encoded data removed]",
      "text/plain": [
       "<matplotlib.figure.Figure at 0x1c3bea58>"
      ]
     },
     "metadata": {},
     "output_type": "display_data"
    },
    {
     "data": {
      "image/png": "[encoded data removed]",
      "text/plain": [
       "<matplotlib.figure.Figure at 0x1c23de10>"
      ]
     },
     "metadata": {},
     "output_type": "display_data"
    },
    {
     "data": {
      "image/png": "[encoded data removed]",
      "text/plain": [
       "<matplotlib.figure.Figure at 0x8db3748>"
      ]
     },
     "metadata": {},
     "output_type": "display_data"
    },
    {
     "data": {
      "image/png": "[encoded data removed]",
      "text/plain": [
       "<matplotlib.figure.Figure at 0x82b1588>"
      ]
     },
     "metadata": {},
     "output_type": "display_data"
    },
    {
     "data": {
      "image/png": "[encoded data removed]",
      "text/plain": [
       "<matplotlib.figure.Figure at 0x83df208>"
      ]
     },
     "metadata": {},
     "output_type": "display_data"
    },
    {
     "data": {
      "image/png": "[encoded data removed]",
      "text/plain": [
       "<matplotlib.figure.Figure at 0x1c300048>"
      ]
     },
     "metadata": {},
     "output_type": "display_data"
    },
    {
     "data": {
      "image/png": "[encoded data removed]",
      "text/plain": [
       "<matplotlib.figure.Figure at 0x8b805c0>"
      ]
     },
     "metadata": {},
     "output_type": "display_data"
    },
    {
     "data": {
      "image/png": "[encoded data removed]",
      "text/plain": [
       "<matplotlib.figure.Figure at 0x83ab2b0>"
      ]
     },
     "metadata": {},
     "output_type": "display_data"
    },
    {
     "data": {
      "image/png": "[encoded data removed]",
      "text/plain": [
       "<matplotlib.figure.Figure at 0x87c5278>"
      ]
     },
     "metadata": {},
     "output_type": "display_data"
    }
   ],
   "source": [
    "for i in xrange(2, 41,4):\n",
    "    recons_img = np.matrix(U[:, :i]) * np.diag(sigma[:i]) * np.matrix(V[:i, :])\n",
    "    plt.imshow(recons_img, cmap='gray')\n",
    "    title = \"n = %s\" % i\n",
    "    plt.title(title)\n",
    "    plt.show()"
   ]
  },
  {
   "cell_type": "markdown",
   "metadata": {},
   "source": [
    "#### ¿Qué tiene que ver este proyecto con la compresión de imágenes?"
   ]
  },
  {
   "cell_type": "markdown",
   "metadata": {},
   "source": [
    "La idea detrás de realizar este ejercicio es mostrar cómo una imagen se puede decomponer cuando se le analiza como una matriz de datos (formada por pixeles) utilizando el SVD. En concreto, utilizando esta descomposición podemos mostrar como aproximaciones de rango menor pueden reconstruir la imagen de manera más o menos fidedigna, utilizando una menor cantidad de información (menos vectores singulares)."
   ]
  },
  {
   "cell_type": "markdown",
   "metadata": {},
   "source": [
    "#  2. Pseudoinversa"
   ]
  },
  {
   "cell_type": "markdown",
   "metadata": {},
   "source": [
    "Funcion que devuelve pseudoinversa para cualquier matriz y funcion que solucione un sistema de ecuaciones"
   ]
  },
  {
   "cell_type": "code",
   "execution_count": 98,
   "metadata": {
    "collapsed": false
   },
   "outputs": [],
   "source": [
    "def pseudo(A):\n",
    "    U,s,V = linalg.svd(A) # SVD decomposition of A\n",
    "    pinv_svd = dot(dot(V.T,linalg.inv(diag(s))),U.T)\n",
    "    print(\"Inversa utilizando la descomposicion SVD\\n\", pinv_svd)"
   ]
  },
  {
   "cell_type": "code",
   "execution_count": 101,
   "metadata": {
    "collapsed": false
   },
   "outputs": [
    {
     "name": "stdout",
     "output_type": "stream",
     "text": [
      "Inversa utilizando la descomposicion SVD\n",
      "\n"
     ]
    },
    {
     "data": {
      "text/plain": [
       "array([[  4.78192349e-01,   3.30558162e-02,  -2.43665843e-02,\n",
       "         -1.90161973e-02,  -2.68048170e-02],\n",
       "       [  1.84068167e+00,   2.98756178e-02,  -1.22979779e-01,\n",
       "         -4.84618949e-02,  -8.31493894e-02],\n",
       "       [ -4.64233063e-02,  -8.62262454e-04,   5.13280295e-02,\n",
       "         -3.03325846e-03,   1.85935434e-03],\n",
       "       [  7.86083019e-01,   4.23542026e-03,  -8.82648341e-02,\n",
       "         -2.34901930e-02,  -1.38147686e-02],\n",
       "       [ -1.68741371e+00,  -3.38462234e-02,   1.13083945e-01,\n",
       "          5.79023770e-02,   7.01758919e-02]])"
      ]
     },
     "execution_count": 101,
     "metadata": {},
     "output_type": "execute_result"
    }
   ],
   "source": [
    "A = np.array([(2,3,4,4,5),(56,7,8,23,34),(4,7,23,4,10),(42,73,23,41,110),(34,4,44,67,44)])\n",
    "pseudo(A)"
   ]
  },
  {
   "cell_type": "code",
   "execution_count": 6,
   "metadata": {
    "collapsed": true
   },
   "outputs": [],
   "source": [
    "def solineal(a,b):\n",
    "    x = np.linalg.solve(a, b) #donde a es el arreglo de entradas o coeficientes del sistema lineal, y b su solucion\n",
    "    x\n",
    "    return (x)\n"
   ]
  },
  {
   "cell_type": "code",
   "execution_count": 82,
   "metadata": {
    "collapsed": false
   },
   "outputs": [],
   "source": [
    "a = np.array([(2,1),(1,-1)])\n",
    "b = np.array([6,0])\n"
   ]
  },
  {
   "cell_type": "code",
   "execution_count": 83,
   "metadata": {
    "collapsed": false,
    "scrolled": true
   },
   "outputs": [
    {
     "name": "stdout",
     "output_type": "stream",
     "text": [
      "[[ 2  1]\n",
      " [ 1 -1]]\n",
      "[6 0]\n"
     ]
    }
   ],
   "source": [
    "print(a)\n",
    "print(b)"
   ]
  },
  {
   "cell_type": "code",
   "execution_count": 88,
   "metadata": {
    "collapsed": false
   },
   "outputs": [
    {
     "data": {
      "text/plain": [
       "array([ 2.,  2.])"
      ]
     },
     "execution_count": 88,
     "metadata": {},
     "output_type": "execute_result"
    }
   ],
   "source": [
    "solineal(a,b)"
   ]
  },
  {
   "cell_type": "markdown",
   "metadata": {},
   "source": [
    "La funcion parece funcionar bien"
   ]
  },
  {
   "cell_type": "markdown",
   "metadata": {},
   "source": [
    "Ahora para A=([1,1],[0,0]), el rango de la matriz es $(X_1+X_2,0)$, y la unica manera en que b puede estar en la imagen de b es si $X_1+X_2=0$, o sea, si b=(0,0)"
   ]
  },
  {
   "cell_type": "code",
   "execution_count": 2,
   "metadata": {
    "collapsed": false
   },
   "outputs": [
    {
     "name": "stdout",
     "output_type": "stream",
     "text": [
      "[[1 1]\n",
      " [0 0]]\n",
      "[0 0]\n"
     ]
    }
   ],
   "source": [
    "#Ahora con los datos del problema\n",
    "a=np.array([(1,1),(0,0)])\n",
    "#y con b en la imagen de A\n",
    "b=np.array([0,0])\n",
    "print(a)\n",
    "print(b)\n",
    "#Probemos a b en la imagen. "
   ]
  },
  {
   "cell_type": "code",
   "execution_count": 3,
   "metadata": {
    "collapsed": false,
    "scrolled": true
   },
   "outputs": [
    {
     "ename": "NameError",
     "evalue": "name 'solineal' is not defined",
     "output_type": "error",
     "traceback": [
      "\u001b[1;31m---------------------------------------------------------------------------\u001b[0m",
      "\u001b[1;31mNameError\u001b[0m                                 Traceback (most recent call last)",
      "\u001b[1;32m<ipython-input-3-180771a3059e>\u001b[0m in \u001b[0;36m<module>\u001b[1;34m()\u001b[0m\n\u001b[1;32m----> 1\u001b[1;33m \u001b[0msolineal\u001b[0m\u001b[1;33m(\u001b[0m\u001b[0ma\u001b[0m\u001b[1;33m,\u001b[0m\u001b[0mb\u001b[0m\u001b[1;33m)\u001b[0m\u001b[1;33m\u001b[0m\u001b[0m\n\u001b[0m",
      "\u001b[1;31mNameError\u001b[0m: name 'solineal' is not defined"
     ]
    }
   ],
   "source": [
    "solineal(a,b)"
   ]
  },
  {
   "cell_type": "markdown",
   "metadata": {},
   "source": [
    "No lo puede solucionar. Tiene soluciones infinitas"
   ]
  },
  {
   "cell_type": "code",
   "execution_count": 4,
   "metadata": {
    "collapsed": false
   },
   "outputs": [
    {
     "name": "stdout",
     "output_type": "stream",
     "text": [
      "[[1 1]\n",
      " [0 0]]\n",
      "[1 1]\n"
     ]
    }
   ],
   "source": [
    "#Ahora con b que no esta en la imagen\n",
    "#Ahora con los datos del problema\n",
    "a=np.array([(1,1),(0,0)])\n",
    "#y con b en la imagen de A\n",
    "b=np.array([1,1])\n",
    "print(a)\n",
    "print(b)\n",
    "#Probemos a b en la imagen. "
   ]
  },
  {
   "cell_type": "code",
   "execution_count": 7,
   "metadata": {
    "collapsed": false
   },
   "outputs": [
    {
     "ename": "LinAlgError",
     "evalue": "Singular matrix",
     "output_type": "error",
     "traceback": [
      "\u001b[1;31m---------------------------------------------------------------------------\u001b[0m",
      "\u001b[1;31mLinAlgError\u001b[0m                               Traceback (most recent call last)",
      "\u001b[1;32m<ipython-input-7-180771a3059e>\u001b[0m in \u001b[0;36m<module>\u001b[1;34m()\u001b[0m\n\u001b[1;32m----> 1\u001b[1;33m \u001b[0msolineal\u001b[0m\u001b[1;33m(\u001b[0m\u001b[0ma\u001b[0m\u001b[1;33m,\u001b[0m\u001b[0mb\u001b[0m\u001b[1;33m)\u001b[0m\u001b[1;33m\u001b[0m\u001b[0m\n\u001b[0m",
      "\u001b[1;32m<ipython-input-6-72879f32d8e5>\u001b[0m in \u001b[0;36msolineal\u001b[1;34m(a, b)\u001b[0m\n\u001b[0;32m      1\u001b[0m \u001b[1;32mdef\u001b[0m \u001b[0msolineal\u001b[0m\u001b[1;33m(\u001b[0m\u001b[0ma\u001b[0m\u001b[1;33m,\u001b[0m\u001b[0mb\u001b[0m\u001b[1;33m)\u001b[0m\u001b[1;33m:\u001b[0m\u001b[1;33m\u001b[0m\u001b[0m\n\u001b[1;32m----> 2\u001b[1;33m     \u001b[0mx\u001b[0m \u001b[1;33m=\u001b[0m \u001b[0mnp\u001b[0m\u001b[1;33m.\u001b[0m\u001b[0mlinalg\u001b[0m\u001b[1;33m.\u001b[0m\u001b[0msolve\u001b[0m\u001b[1;33m(\u001b[0m\u001b[0ma\u001b[0m\u001b[1;33m,\u001b[0m \u001b[0mb\u001b[0m\u001b[1;33m)\u001b[0m \u001b[1;31m#donde a es el arreglo de entradas o coeficientes del sistema lineal, y b su solucion\u001b[0m\u001b[1;33m\u001b[0m\u001b[0m\n\u001b[0m\u001b[0;32m      3\u001b[0m     \u001b[0mx\u001b[0m\u001b[1;33m\u001b[0m\u001b[0m\n\u001b[0;32m      4\u001b[0m     \u001b[1;32mreturn\u001b[0m \u001b[1;33m(\u001b[0m\u001b[0mx\u001b[0m\u001b[1;33m)\u001b[0m\u001b[1;33m\u001b[0m\u001b[0m\n",
      "\u001b[1;32mC:\\Users\\Amontfori\\AppData\\Local\\Enthought\\Canopy\\User\\lib\\site-packages\\numpy\\linalg\\linalg.pyc\u001b[0m in \u001b[0;36msolve\u001b[1;34m(a, b)\u001b[0m\n\u001b[0;32m    382\u001b[0m     \u001b[0msignature\u001b[0m \u001b[1;33m=\u001b[0m \u001b[1;34m'DD->D'\u001b[0m \u001b[1;32mif\u001b[0m \u001b[0misComplexType\u001b[0m\u001b[1;33m(\u001b[0m\u001b[0mt\u001b[0m\u001b[1;33m)\u001b[0m \u001b[1;32melse\u001b[0m \u001b[1;34m'dd->d'\u001b[0m\u001b[1;33m\u001b[0m\u001b[0m\n\u001b[0;32m    383\u001b[0m     \u001b[0mextobj\u001b[0m \u001b[1;33m=\u001b[0m \u001b[0mget_linalg_error_extobj\u001b[0m\u001b[1;33m(\u001b[0m\u001b[0m_raise_linalgerror_singular\u001b[0m\u001b[1;33m)\u001b[0m\u001b[1;33m\u001b[0m\u001b[0m\n\u001b[1;32m--> 384\u001b[1;33m     \u001b[0mr\u001b[0m \u001b[1;33m=\u001b[0m \u001b[0mgufunc\u001b[0m\u001b[1;33m(\u001b[0m\u001b[0ma\u001b[0m\u001b[1;33m,\u001b[0m \u001b[0mb\u001b[0m\u001b[1;33m,\u001b[0m \u001b[0msignature\u001b[0m\u001b[1;33m=\u001b[0m\u001b[0msignature\u001b[0m\u001b[1;33m,\u001b[0m \u001b[0mextobj\u001b[0m\u001b[1;33m=\u001b[0m\u001b[0mextobj\u001b[0m\u001b[1;33m)\u001b[0m\u001b[1;33m\u001b[0m\u001b[0m\n\u001b[0m\u001b[0;32m    385\u001b[0m \u001b[1;33m\u001b[0m\u001b[0m\n\u001b[0;32m    386\u001b[0m     \u001b[1;32mreturn\u001b[0m \u001b[0mwrap\u001b[0m\u001b[1;33m(\u001b[0m\u001b[0mr\u001b[0m\u001b[1;33m.\u001b[0m\u001b[0mastype\u001b[0m\u001b[1;33m(\u001b[0m\u001b[0mresult_t\u001b[0m\u001b[1;33m,\u001b[0m \u001b[0mcopy\u001b[0m\u001b[1;33m=\u001b[0m\u001b[0mFalse\u001b[0m\u001b[1;33m)\u001b[0m\u001b[1;33m)\u001b[0m\u001b[1;33m\u001b[0m\u001b[0m\n",
      "\u001b[1;32mC:\\Users\\Amontfori\\AppData\\Local\\Enthought\\Canopy\\User\\lib\\site-packages\\numpy\\linalg\\linalg.pyc\u001b[0m in \u001b[0;36m_raise_linalgerror_singular\u001b[1;34m(err, flag)\u001b[0m\n\u001b[0;32m     88\u001b[0m \u001b[1;33m\u001b[0m\u001b[0m\n\u001b[0;32m     89\u001b[0m \u001b[1;32mdef\u001b[0m \u001b[0m_raise_linalgerror_singular\u001b[0m\u001b[1;33m(\u001b[0m\u001b[0merr\u001b[0m\u001b[1;33m,\u001b[0m \u001b[0mflag\u001b[0m\u001b[1;33m)\u001b[0m\u001b[1;33m:\u001b[0m\u001b[1;33m\u001b[0m\u001b[0m\n\u001b[1;32m---> 90\u001b[1;33m     \u001b[1;32mraise\u001b[0m \u001b[0mLinAlgError\u001b[0m\u001b[1;33m(\u001b[0m\u001b[1;34m\"Singular matrix\"\u001b[0m\u001b[1;33m)\u001b[0m\u001b[1;33m\u001b[0m\u001b[0m\n\u001b[0m\u001b[0;32m     91\u001b[0m \u001b[1;33m\u001b[0m\u001b[0m\n\u001b[0;32m     92\u001b[0m \u001b[1;32mdef\u001b[0m \u001b[0m_raise_linalgerror_nonposdef\u001b[0m\u001b[1;33m(\u001b[0m\u001b[0merr\u001b[0m\u001b[1;33m,\u001b[0m \u001b[0mflag\u001b[0m\u001b[1;33m)\u001b[0m\u001b[1;33m:\u001b[0m\u001b[1;33m\u001b[0m\u001b[0m\n",
      "\u001b[1;31mLinAlgError\u001b[0m: Singular matrix"
     ]
    }
   ],
   "source": [
    "solineal(a,b)"
   ]
  },
  {
   "cell_type": "code",
   "execution_count": null,
   "metadata": {
    "collapsed": true
   },
   "outputs": [],
   "source": [
    "De nuevo, arroja un error porque tiene soluciones infinitas"
   ]
  },
  {
   "cell_type": "code",
   "execution_count": 100,
   "metadata": {
    "collapsed": false
   },
   "outputs": [
    {
     "name": "stdout",
     "output_type": "stream",
     "text": [
      "[[  1.00000000e+00   1.00000000e+00]\n",
      " [  0.00000000e+00   1.00000000e-32]]\n",
      "[  2.00000000e+00   1.00000000e-32]\n"
     ]
    }
   ],
   "source": [
    "#Ahora cambiamos los valores de a y b, donde b esta en el rango de a\n",
    "from math import exp, expm1\n",
    "a=np.array([(1,1),(0,expm1(1e-32))])\n",
    "#y con b en la imagen de A\n",
    "b=np.array([2,expm1(1e-32)])\n",
    "print(a)\n",
    "print(b)"
   ]
  },
  {
   "cell_type": "code",
   "execution_count": 98,
   "metadata": {
    "collapsed": false
   },
   "outputs": [
    {
     "data": {
      "text/plain": [
       "array([ 1.,  1.])"
      ]
     },
     "execution_count": 98,
     "metadata": {},
     "output_type": "execute_result"
    }
   ],
   "source": [
    "solineal(a,b)"
   ]
  },
  {
   "cell_type": "code",
   "execution_count": null,
   "metadata": {
    "collapsed": true
   },
   "outputs": [],
   "source": [
    "#El sistema tiene solucion"
   ]
  },
  {
   "cell_type": "code",
   "execution_count": 103,
   "metadata": {
    "collapsed": false,
    "scrolled": true
   },
   "outputs": [
    {
     "name": "stdout",
     "output_type": "stream",
     "text": [
      "[[  1.00000000e+00   1.00000000e+00]\n",
      " [  0.00000000e+00   1.00000000e-32]]\n",
      "[2 0]\n"
     ]
    },
    {
     "data": {
      "text/plain": [
       "array([ 2.,  0.])"
      ]
     },
     "execution_count": 103,
     "metadata": {},
     "output_type": "execute_result"
    }
   ],
   "source": [
    "#y si b no esta en la imagen\n",
    "a=np.array([(1,1),(0,expm1(1e-32))])\n",
    "#y con b en la imagen de A\n",
    "b=np.array([2,0])\n",
    "print(a)\n",
    "print(b)\n",
    "solineal(a,b)"
   ]
  },
  {
   "cell_type": "markdown",
   "metadata": {},
   "source": [
    "Tambien tiene solucion"
   ]
  },
  {
   "cell_type": "code",
   "execution_count": 104,
   "metadata": {
    "collapsed": false,
    "scrolled": true
   },
   "outputs": [
    {
     "name": "stdout",
     "output_type": "stream",
     "text": [
      "[[  1.00000000e+00   1.00000000e+00]\n",
      " [  0.00000000e+00   1.00000000e-32]]\n",
      "[  2.00000000e+00   2.20254658e+04]\n"
     ]
    },
    {
     "data": {
      "text/plain": [
       "array([ -2.20254658e+36,   2.20254658e+36])"
      ]
     },
     "execution_count": 104,
     "metadata": {},
     "output_type": "execute_result"
    }
   ],
   "source": [
    "#para otro valor de b que no esta en la imagen\n",
    "a=np.array([(1,1),(0,expm1(1e-32))])\n",
    "#y con b en la imagen de A\n",
    "b=np.array([2,expm1(10)])\n",
    "print(a)\n",
    "print(b)\n",
    "solineal(a,b)"
   ]
  },
  {
   "cell_type": "code",
   "execution_count": null,
   "metadata": {
    "collapsed": true
   },
   "outputs": [],
   "source": [
    "En este caso la solucion si es unica para los valores de b"
   ]
  },
  {
   "cell_type": "markdown",
   "metadata": {},
   "source": [
    "# 3. Regresion"
   ]
  },
  {
   "cell_type": "markdown",
   "metadata": {},
   "source": [
    "Plantear el problema de regresion lineal como un problema de minimizacion"
   ]
  },
  {
   "cell_type": "markdown",
   "metadata": {},
   "source": [
    "Se desea modelar $$Sat score=\\alpha + \\beta*study hours$$\n",
    "para lo cual se estima\n",
    "$$satscore_i=\\hat\\alpha+ \\hat\\beta*study hours_i+\\epsilon_i$$\n",
    "\n",
    "El problema de minimizacion del cuadrado del error se plantea asi\n",
    "$$Min\\,F(\\alpha,\\beta)=\\epsilon_i^2=\\sum_{i=1}^n (satscore_i-\\alpha-\\beta*study hours_i)^2$$\n",
    "y entonces se desea encontrar $\\alpha$  y $\\beta$ que cumplan esta condicion\n",
    "El gradiente de la funcion que se quiere optimizar es el vector de derivadas parciales respecto a $\\alpha$  y $\\beta$ de la funcion que se minimizara"
   ]
  },
  {
   "cell_type": "code",
   "execution_count": 14,
   "metadata": {
    "collapsed": false,
    "scrolled": true
   },
   "outputs": [],
   "source": [
    "#Para leer el csv en pandas\n",
    "import pandas as pd\n",
    "import io\n",
    "import requests"
   ]
  },
  {
   "cell_type": "code",
   "execution_count": null,
   "metadata": {
    "collapsed": true
   },
   "outputs": [],
   "source": [
    "urlcsv=(\"https://raw.githubusercontent.com/mauriciogtec/PropedeuticoDataScience2017/master/Tarea/study_vs_sat.csv\")\n",
    "s=requests.get(urlcsv).content"
   ]
  },
  {
   "cell_type": "code",
   "execution_count": null,
   "metadata": {
    "collapsed": true
   },
   "outputs": [],
   "source": [
    "data=pd.read_csv(io.StringIO(s.decode('utf-8')))"
   ]
  },
  {
   "cell_type": "code",
   "execution_count": 15,
   "metadata": {
    "collapsed": false
   },
   "outputs": [
    {
     "data": {
      "text/html": [
       "<div>\n",
       "<table border=\"1\" class=\"dataframe\">\n",
       "  <thead>\n",
       "    <tr style=\"text-align: right;\">\n",
       "      <th></th>\n",
       "      <th>study_hours</th>\n",
       "      <th>sat_score</th>\n",
       "    </tr>\n",
       "  </thead>\n",
       "  <tbody>\n",
       "    <tr>\n",
       "      <th>0</th>\n",
       "      <td>4</td>\n",
       "      <td>390</td>\n",
       "    </tr>\n",
       "    <tr>\n",
       "      <th>1</th>\n",
       "      <td>9</td>\n",
       "      <td>580</td>\n",
       "    </tr>\n",
       "    <tr>\n",
       "      <th>2</th>\n",
       "      <td>10</td>\n",
       "      <td>650</td>\n",
       "    </tr>\n",
       "    <tr>\n",
       "      <th>3</th>\n",
       "      <td>14</td>\n",
       "      <td>730</td>\n",
       "    </tr>\n",
       "    <tr>\n",
       "      <th>4</th>\n",
       "      <td>4</td>\n",
       "      <td>410</td>\n",
       "    </tr>\n",
       "  </tbody>\n",
       "</table>\n",
       "</div>"
      ],
      "text/plain": [
       "   study_hours  sat_score\n",
       "0            4        390\n",
       "1            9        580\n",
       "2           10        650\n",
       "3           14        730\n",
       "4            4        410"
      ]
     },
     "execution_count": 15,
     "metadata": {},
     "output_type": "execute_result"
    }
   ],
   "source": [
    "data.head()"
   ]
  },
  {
   "cell_type": "code",
   "execution_count": 16,
   "metadata": {
    "collapsed": false
   },
   "outputs": [
    {
     "data": {
      "text/plain": [
       "pandas.core.frame.DataFrame"
      ]
     },
     "execution_count": 16,
     "metadata": {},
     "output_type": "execute_result"
    }
   ],
   "source": [
    "type(data)"
   ]
  },
  {
   "cell_type": "code",
   "execution_count": 18,
   "metadata": {
    "collapsed": false
   },
   "outputs": [
    {
     "name": "stdout",
     "output_type": "stream",
     "text": [
      "study_hours\n",
      "sat_score\n"
     ]
    }
   ],
   "source": [
    "for c in data.columns:\n",
    "    print(c)"
   ]
  },
  {
   "cell_type": "code",
   "execution_count": 21,
   "metadata": {
    "collapsed": false
   },
   "outputs": [
    {
     "data": {
      "text/plain": [
       "(20, 2)"
      ]
     },
     "execution_count": 21,
     "metadata": {},
     "output_type": "execute_result"
    }
   ],
   "source": [
    "data.shape"
   ]
  },
  {
   "cell_type": "code",
   "execution_count": 22,
   "metadata": {
    "collapsed": false
   },
   "outputs": [
    {
     "name": "stdout",
     "output_type": "stream",
     "text": [
      "4\n",
      "9\n",
      "10\n",
      "14\n",
      "7\n",
      "12\n",
      "22\n",
      "1\n",
      "3\n",
      "8\n",
      "11\n",
      "5\n",
      "6\n",
      "16\n",
      "13\n"
     ]
    }
   ],
   "source": [
    "for x in data['study_hours'].unique():\n",
    "    print(x)"
   ]
  },
  {
   "cell_type": "code",
   "execution_count": 24,
   "metadata": {
    "collapsed": false
   },
   "outputs": [
    {
     "data": {
      "text/plain": [
       "<matplotlib.axes._subplots.AxesSubplot at 0x113c5b940>"
      ]
     },
     "execution_count": 24,
     "metadata": {},
     "output_type": "execute_result"
    },
    {
     "data": {
      "image/png": "[encoded data removed]",
      "text/plain": [
       "<matplotlib.figure.Figure at 0x110cee320>"
      ]
     },
     "metadata": {},
     "output_type": "display_data"
    }
   ],
   "source": [
    "data['study_hours'].plot(kind = 'kde')"
   ]
  },
  {
   "cell_type": "code",
   "execution_count": 25,
   "metadata": {
    "collapsed": false
   },
   "outputs": [
    {
     "data": {
      "text/plain": [
       "<matplotlib.axes._subplots.AxesSubplot at 0x1154a8908>"
      ]
     },
     "execution_count": 25,
     "metadata": {},
     "output_type": "execute_result"
    },
    {
     "data": {
      "image/png": "[encoded data removed]",
      "text/plain": [
       "<matplotlib.figure.Figure at 0x11545cc50>"
      ]
     },
     "metadata": {},
     "output_type": "display_data"
    }
   ],
   "source": [
    "data['sat_score'].plot(kind = 'kde')"
   ]
  },
  {
   "cell_type": "code",
   "execution_count": 32,
   "metadata": {
    "collapsed": false
   },
   "outputs": [
    {
     "data": {
      "image/png": "[encoded data removed]",
      "text/plain": [
       "<matplotlib.figure.Figure at 0x1159aa6d8>"
      ]
     },
     "metadata": {},
     "output_type": "display_data"
    }
   ],
   "source": [
    "study = data['study_hours']\n",
    "sat = data['sat_score']\n",
    "plt.scatter(study,sat, marker='o', c='r')\n",
    "plt.title('SAT Score and Study Hours') \n",
    "plt.xlabel('Hours') \n",
    "plt.ylabel('Score')\n",
    "plt.show() "
   ]
  },
  {
   "cell_type": "code",
   "execution_count": 33,
   "metadata": {
    "collapsed": true
   },
   "outputs": [],
   "source": [
    "from __future__ import print_function\n",
    "import statsmodels.api as sm\n",
    "from statsmodels.formula.api import ols"
   ]
  },
  {
   "cell_type": "code",
   "execution_count": 34,
   "metadata": {
    "collapsed": true
   },
   "outputs": [],
   "source": [
    "OLS_results = sm.OLS(sat,study).fit()"
   ]
  },
  {
   "cell_type": "code",
   "execution_count": 38,
   "metadata": {
    "collapsed": false
   },
   "outputs": [
    {
     "name": "stdout",
     "output_type": "stream",
     "text": [
      "                            OLS Regression Results                            \n",
      "==============================================================================\n",
      "Dep. Variable:              sat_score   R-squared:                       0.872\n",
      "Model:                            OLS   Adj. R-squared:                  0.864\n",
      "Method:                 Least Squares   F-statistic:                     122.2\n",
      "Date:                Sat, 01 Jul 2017   Prob (F-statistic):           1.87e-09\n",
      "Time:                        10:22:20   Log-Likelihood:                -105.45\n",
      "No. Observations:                  20   AIC:                             214.9\n",
      "Df Residuals:                      18   BIC:                             216.9\n",
      "Df Model:                           1                                         \n",
      "Covariance Type:            nonrobust                                         \n",
      "===============================================================================\n",
      "                  coef    std err          t      P>|t|      [95.0% Conf. Int.]\n",
      "-------------------------------------------------------------------------------\n",
      "Intercept     353.1649     24.337     14.511      0.000       302.034   404.296\n",
      "study_hours    25.3265      2.291     11.055      0.000        20.513    30.140\n",
      "==============================================================================\n",
      "Omnibus:                        2.453   Durbin-Watson:                   1.018\n",
      "Prob(Omnibus):                  0.293   Jarque-Bera (JB):                1.285\n",
      "Skew:                          -0.614   Prob(JB):                        0.526\n",
      "Kurtosis:                       3.191   Cond. No.                         23.4\n",
      "==============================================================================\n",
      "\n",
      "Warnings:\n",
      "[1] Standard Errors assume that the covariance matrix of the errors is correctly specified.\n"
     ]
    }
   ],
   "source": [
    "formula = 'sat_score ~ study_hours'\n",
    "lm = ols(formula, data).fit()\n",
    "print(lm.summary())"
   ]
  },
  {
   "cell_type": "code",
   "execution_count": 49,
   "metadata": {
    "collapsed": false
   },
   "outputs": [],
   "source": [
    "alpha = lm.params[0]\n",
    "beta = lm.params[1]"
   ]
  },
  {
   "cell_type": "code",
   "execution_count": 50,
   "metadata": {
    "collapsed": false
   },
   "outputs": [],
   "source": [
    "R2 = lm.rsquared"
   ]
  },
  {
   "cell_type": "code",
   "execution_count": 52,
   "metadata": {
    "collapsed": false
   },
   "outputs": [
    {
     "name": "stdout",
     "output_type": "stream",
     "text": [
      "Los valores óptimos del gradiente que minimiza la suma de cuadrados son: \n",
      " - alpha:  353.164879499\n",
      " - beta:  25.3264677779\n"
     ]
    }
   ],
   "source": [
    "print('Los valores óptimos del gradiente que minimiza la suma de cuadrados son: ')\n",
    "print(' - alpha: ', alpha)\n",
    "print(' - beta: ', beta)"
   ]
  },
  {
   "cell_type": "code",
   "execution_count": 60,
   "metadata": {
    "collapsed": true
   },
   "outputs": [],
   "source": [
    "def prediction(alpha_input, beta_input, vector_input):\n",
    "    prediction_list = []\n",
    "    for i in range(len(vector_input)):\n",
    "        x_i = vector_input[i]\n",
    "        y_hat_i = alpha_input + beta_input * x_i\n",
    "        prediction_list.append(y_hat_i)\n",
    "    prediction_array = np.asarray(prediction_list)\n",
    "    return prediction_array"
   ]
  },
  {
   "cell_type": "code",
   "execution_count": 110,
   "metadata": {
    "collapsed": false
   },
   "outputs": [],
   "source": [
    "prediction_sat = prediction(alpha, beta, data['study_hours'])"
   ]
  },
  {
   "cell_type": "code",
   "execution_count": 115,
   "metadata": {
    "collapsed": false
   },
   "outputs": [
    {
     "data": {
      "image/png": "[encoded data removed]",
      "text/plain": [
       "<matplotlib.figure.Figure at 0x116abff60>"
      ]
     },
     "metadata": {},
     "output_type": "display_data"
    }
   ],
   "source": [
    "plt.scatter(study, prediction_sat, marker='o', c='b')\n",
    "plt.title('PREDICTED SAT Score and Study Hours') \n",
    "plt.xlabel('Hours') \n",
    "plt.ylabel('Score')\n",
    "plt.show() "
   ]
  },
  {
   "cell_type": "code",
   "execution_count": 128,
   "metadata": {
    "collapsed": false
   },
   "outputs": [
    {
     "data": {
      "image/png": "[encoded data removed]",
      "text/plain": [
       "<matplotlib.figure.Figure at 0x1171606d8>"
      ]
     },
     "metadata": {},
     "output_type": "display_data"
    }
   ],
   "source": [
    "plt.scatter(study,sat, marker='o', c='r')\n",
    "plt.title('SAT Score and Study Hours') \n",
    "plt.xlabel('Hours') \n",
    "plt.ylabel('Score')\n",
    "plt.plot([0, max(study)], [0, alpha + beta*max(study)], '-', c = 'b', linewidth = 4)\n",
    "plt.show() "
   ]
  },
  {
   "cell_type": "code",
   "execution_count": 64,
   "metadata": {
    "collapsed": false
   },
   "outputs": [],
   "source": [
    "unos = [1] * len(data)\n",
    "study_list = list(study)"
   ]
  },
  {
   "cell_type": "code",
   "execution_count": 66,
   "metadata": {
    "collapsed": false
   },
   "outputs": [],
   "source": [
    "array_X = np.column_stack((unos, study_list))"
   ]
  },
  {
   "cell_type": "code",
   "execution_count": 107,
   "metadata": {
    "collapsed": true
   },
   "outputs": [],
   "source": [
    "sat_score_predicted = array_X * [alpha, beta]"
   ]
  },
  {
   "cell_type": "code",
   "execution_count": 108,
   "metadata": {
    "collapsed": false
   },
   "outputs": [
    {
     "data": {
      "text/plain": [
       "array([[ 353.1648795 ,  101.30587111],\n",
       "       [ 353.1648795 ,  227.93821   ],\n",
       "       [ 353.1648795 ,  253.26467778],\n",
       "       [ 353.1648795 ,  354.57054889],\n",
       "       [ 353.1648795 ,  101.30587111],\n",
       "       [ 353.1648795 ,  177.28527445],\n",
       "       [ 353.1648795 ,  303.91761333],\n",
       "       [ 353.1648795 ,  557.18229111],\n",
       "       [ 353.1648795 ,   25.32646778],\n",
       "       [ 353.1648795 ,   75.97940333],\n",
       "       [ 353.1648795 ,  202.61174222],\n",
       "       [ 353.1648795 ,  278.59114556],\n",
       "       [ 353.1648795 ,  126.63233889],\n",
       "       [ 353.1648795 ,  151.95880667],\n",
       "       [ 353.1648795 ,  253.26467778],\n",
       "       [ 353.1648795 ,  278.59114556],\n",
       "       [ 353.1648795 ,  405.22348445],\n",
       "       [ 353.1648795 ,  329.24408111],\n",
       "       [ 353.1648795 ,  329.24408111],\n",
       "       [ 353.1648795 ,  253.26467778]])"
      ]
     },
     "execution_count": 108,
     "metadata": {},
     "output_type": "execute_result"
    }
   ],
   "source": [
    "sat_score_predicted"
   ]
  },
  {
   "cell_type": "code",
   "execution_count": 106,
   "metadata": {
    "collapsed": false
   },
   "outputs": [],
   "source": [
    "array_X_pseudo = np.linalg.pinv(array_X)"
   ]
  },
  {
   "cell_type": "code",
   "execution_count": null,
   "metadata": {
    "collapsed": true
   },
   "outputs": [],
   "source": []
  },
  {
   "cell_type": "code",
   "execution_count": 77,
   "metadata": {
    "collapsed": false
   },
   "outputs": [],
   "source": [
    "from numpy import genfromtxt, zeros, ones, array, linspace, logspace \n",
    "from pylab import scatter, show, title, xlabel, ylabel, plot, contour \n"
   ]
  },
  {
   "cell_type": "code",
   "execution_count": 94,
   "metadata": {
    "collapsed": false
   },
   "outputs": [],
   "source": [
    "import numpy as np\n",
    "import matplotlib.pyplot as plt\n",
    " \n",
    "def estimate_coef(x, y):\n",
    "    # number of observations/points\n",
    "    n = np.size(x)\n",
    " \n",
    "    # mean of x and y vector\n",
    "    m_x, m_y = np.mean(x), np.mean(y)\n",
    " \n",
    "    # calculating cross-deviation and deviation about x\n",
    "    SS_xy = np.sum(y*x - n*m_y*m_x)\n",
    "    SS_xx = np.sum(x*x - n*m_x*m_x)\n",
    " \n",
    "    # calculating regression coefficients\n",
    "    b_1 = SS_xy / SS_xx\n",
    "    b_0 = m_y - b_1*m_x\n",
    " \n",
    "    return(b_0, b_1)\n"
   ]
  },
  {
   "cell_type": "code",
   "execution_count": 96,
   "metadata": {
    "collapsed": false
   },
   "outputs": [
    {
     "ename": "AttributeError",
     "evalue": "'module' object has no attribute 'data'",
     "output_type": "error",
     "traceback": [
      "\u001b[1;31m---------------------------------------------------------------------------\u001b[0m",
      "\u001b[1;31mAttributeError\u001b[0m                            Traceback (most recent call last)",
      "\u001b[1;32m<ipython-input-96-371b3d6e5328>\u001b[0m in \u001b[0;36m<module>\u001b[1;34m()\u001b[0m\n\u001b[0;32m     50\u001b[0m \u001b[1;33m\u001b[0m\u001b[0m\n\u001b[0;32m     51\u001b[0m \u001b[1;32mif\u001b[0m \u001b[0m__name__\u001b[0m \u001b[1;33m==\u001b[0m \u001b[1;34m\"__main__\"\u001b[0m\u001b[1;33m:\u001b[0m\u001b[1;33m\u001b[0m\u001b[0m\n\u001b[1;32m---> 52\u001b[1;33m     \u001b[0mmain\u001b[0m\u001b[1;33m(\u001b[0m\u001b[1;33m)\u001b[0m\u001b[1;33m\u001b[0m\u001b[0m\n\u001b[0m",
      "\u001b[1;32m<ipython-input-96-371b3d6e5328>\u001b[0m in \u001b[0;36mmain\u001b[1;34m()\u001b[0m\n\u001b[0;32m     39\u001b[0m \u001b[1;32mdef\u001b[0m \u001b[0mmain\u001b[0m\u001b[1;33m(\u001b[0m\u001b[1;33m)\u001b[0m\u001b[1;33m:\u001b[0m\u001b[1;33m\u001b[0m\u001b[0m\n\u001b[0;32m     40\u001b[0m     \u001b[1;31m# observations\u001b[0m\u001b[1;33m\u001b[0m\u001b[1;33m\u001b[0m\u001b[0m\n\u001b[1;32m---> 41\u001b[1;33m     \u001b[0mx\u001b[0m \u001b[1;33m=\u001b[0m \u001b[0mpd\u001b[0m\u001b[1;33m.\u001b[0m\u001b[0mdata\u001b[0m\u001b[1;33m.\u001b[0m\u001b[0mstudy\u001b[0m\u001b[1;33m\u001b[0m\u001b[0m\n\u001b[0m\u001b[0;32m     42\u001b[0m     \u001b[0my\u001b[0m \u001b[1;33m=\u001b[0m \u001b[0mpd\u001b[0m\u001b[1;33m.\u001b[0m\u001b[0mdata\u001b[0m\u001b[1;33m.\u001b[0m\u001b[0msat\u001b[0m\u001b[1;33m\u001b[0m\u001b[0m\n\u001b[0;32m     43\u001b[0m \u001b[1;33m\u001b[0m\u001b[0m\n",
      "\u001b[1;31mAttributeError\u001b[0m: 'module' object has no attribute 'data'"
     ]
    }
   ],
   "source": [
    "import numpy as np\n",
    "import matplotlib.pyplot as plt\n",
    " \n",
    "def estimate_coef(x, y):\n",
    "    # number of observations/points\n",
    "    n = np.size(x)\n",
    " \n",
    "    # mean of x and y vector\n",
    "    m_x, m_y = np.mean(x), np.mean(y)\n",
    " \n",
    "    # calculating cross-deviation and deviation about x\n",
    "    SS_xy = np.sum(y*x - n*m_y*m_x)\n",
    "    SS_xx = np.sum(x*x - n*m_x*m_x)\n",
    " \n",
    "    # calculating regression coefficients\n",
    "    b_1 = SS_xy / SS_xx\n",
    "    b_0 = m_y - b_1*m_x\n",
    " \n",
    "    return(b_0, b_1)\n",
    " \n",
    "def plot_regression_line(x, y, b):\n",
    "    # plotting the actual points as scatter plot\n",
    "    plt.scatter(x, y, color = \"m\",\n",
    "               marker = \"o\", s = 30)\n",
    " \n",
    "    # predicted response vector\n",
    "    y_pred = b[0] + b[1]*x\n",
    " \n",
    "    # plotting the regression line\n",
    "    plt.plot(x, y_pred, color = \"g\")\n",
    " \n",
    "    # putting labels\n",
    "    plt.xlabel('hours')\n",
    "    plt.ylabel('score')\n",
    " \n",
    "    # function to show plot\n",
    "    plt.show()\n",
    " \n",
    "def main():\n",
    "    # observations\n",
    "    x = pd.data.study\n",
    "    y = pd.data.sat\n",
    " \n",
    "    # estimating coefficients\n",
    "    b = estimate_coef(x, y)\n",
    "    print(\"Estimated coefficients:\\nb_0 = {}  \\\n",
    "          \\nb_1 = {}\".format(b[0], b[1]))\n",
    " \n",
    "    # plotting regression line\n",
    "    plot_regression_line(x, y, b)\n",
    " \n",
    "if __name__ == \"__main__\":\n",
    "    main()\n"
   ]
  },
  {
   "cell_type": "code",
   "execution_count": null,
   "metadata": {
    "collapsed": true
   },
   "outputs": [],
   "source": [
    "#Descenso gradiente"
   ]
  },
  {
   "cell_type": "code",
   "execution_count": 81,
   "metadata": {
    "collapsed": false
   },
   "outputs": [
    {
     "ename": "ValueError",
     "evalue": "could not broadcast input array from shape (20,1) into shape (20)",
     "output_type": "error",
     "traceback": [
      "\u001b[1;31m---------------------------------------------------------------------------\u001b[0m",
      "\u001b[1;31mValueError\u001b[0m                                Traceback (most recent call last)",
      "\u001b[1;32m<ipython-input-81-b8823b70164d>\u001b[0m in \u001b[0;36m<module>\u001b[1;34m()\u001b[0m\n\u001b[0;32m      4\u001b[0m \u001b[1;31m#aniadir columna de unos a estudio(para alpha)\u001b[0m\u001b[1;33m\u001b[0m\u001b[1;33m\u001b[0m\u001b[0m\n\u001b[0;32m      5\u001b[0m \u001b[0mit\u001b[0m \u001b[1;33m=\u001b[0m \u001b[0mones\u001b[0m\u001b[1;33m(\u001b[0m\u001b[0mshape\u001b[0m\u001b[1;33m=\u001b[0m\u001b[1;33m(\u001b[0m\u001b[0mm\u001b[0m\u001b[1;33m,\u001b[0m \u001b[1;36m2\u001b[0m\u001b[1;33m)\u001b[0m\u001b[1;33m)\u001b[0m\u001b[1;33m\u001b[0m\u001b[0m\n\u001b[1;32m----> 6\u001b[1;33m \u001b[0mit\u001b[0m\u001b[1;33m[\u001b[0m\u001b[1;33m:\u001b[0m\u001b[1;33m,\u001b[0m \u001b[1;36m1\u001b[0m\u001b[1;33m]\u001b[0m \u001b[1;33m=\u001b[0m \u001b[0mstudy\u001b[0m\u001b[1;33m\u001b[0m\u001b[0m\n\u001b[0m\u001b[0;32m      7\u001b[0m \u001b[1;33m\u001b[0m\u001b[0m\n\u001b[0;32m      8\u001b[0m \u001b[1;31m#Initialize theta parameters\u001b[0m\u001b[1;33m\u001b[0m\u001b[1;33m\u001b[0m\u001b[0m\n",
      "\u001b[1;31mValueError\u001b[0m: could not broadcast input array from shape (20,1) into shape (20)"
     ]
    }
   ],
   "source": [
    "#number of training samples\n",
    "m = sat.size\n",
    "\n",
    "#aniadir columna de unos a estudio(para alpha) \n",
    "it = ones(shape=(m, 2)) \n",
    "it[:, 1] = study \n",
    " \n",
    "#Initialize theta parameters \n",
    "theta = zeros(shape=(2, 1)) \n",
    "\n",
    "#Some gradient descent settings \n",
    "iterations = 1500 \n",
    "alpha = 0.01 \n"
   ]
  },
  {
   "cell_type": "code",
   "execution_count": null,
   "metadata": {
    "collapsed": true
   },
   "outputs": [],
   "source": []
  },
  {
   "cell_type": "code",
   "execution_count": null,
   "metadata": {
    "collapsed": true
   },
   "outputs": [],
   "source": [
    "from pulp import * \n",
    "\n",
    " \n",
    "5 ### you can get the result: \n",
    "6 # status: Optimal \n",
    "7 # values: \n",
    "8 #     a: 20000.0 \n",
    "9 #     b: -10000.0 \n",
    "10 #     c: 0.0 \n",
    "11 #     z: 10000.0 \n",
    "12 ### or any other multiple thereof \n",
    "13 ### ax + by - c = 0 \n",
    "14 ### is the same as y = (-a/b)x + (c/b) \n",
    "15 \n",
    " \n",
    "16 \n",
    " \n",
    "17 prob = LpProblem(\"best_fit_line\", LpMinimize) \n",
    "18 z = LpVariable('z',0) \n",
    "19 a = LpVariable('a',0) \n",
    "20 # b = LpVariable('b') \n",
    "21 c = LpVariable('c',0) \n",
    "22 \n",
    " \n",
    "23 # objective function \n",
    "24 prob += z \n",
    "25 \n",
    " \n",
    "26 points = [ \n",
    "27     (1,3), \n",
    "28     (2,5), \n",
    "29     (3,7), \n",
    "30     (5,11), \n",
    "31     (7,14), \n",
    "32     (8,15), \n",
    "33     (10,19), \n",
    "34 ] \n",
    "35 \n",
    " \n",
    "36 prob += (a != 0) \n",
    "37 for x,y in points: \n",
    "38     prob += (a*x - y - c <= z) \n",
    "39     prob += (a*x - y - c >= -z) \n",
    "40 \n",
    " \n"
   ]
  },
  {
   "cell_type": "code",
   "execution_count": 18,
   "metadata": {
    "collapsed": false
   },
   "outputs": [
    {
     "name": "stdout",
     "output_type": "stream",
     "text": [
      "[[-8.  6.  8.  8.]\n",
      " [-6.  9. -9. -6.]\n",
      " [ 9. -8. -2. -3.]\n",
      " [ 6. -9. -3.  0.]]\n",
      "Inverse computed by lingal.pinv()\n",
      "[[ 0.66666667  0.38888889  1.         -0.05555556]\n",
      " [ 0.56666667  0.35555556  0.8        -0.08888889]\n",
      " [-0.36666667 -0.28888889 -0.4        -0.17777778]\n",
      " [ 0.73333333  0.41111111  0.8         0.18888889]]\n",
      "Inverse computed using SVD\n",
      "[[ 0.66666667  0.38888889  1.         -0.05555556]\n",
      " [ 0.56666667  0.35555556  0.8        -0.08888889]\n",
      " [-0.36666667 -0.28888889 -0.4        -0.17777778]\n",
      " [ 0.73333333  0.41111111  0.8         0.18888889]]\n"
     ]
    }
   ],
   "source": [
    "from numpy import *\n",
    "#A = np.array([(2,3,4),(56,7,8),(34,27,38),(56,7,8)])\n",
    "A = floor(random.rand(4,4)*20-10) # random matrix\n",
    "b = floor(random.rand(4,1)*20-10) # random system Ax=b\n",
    "print (A)\n",
    "U,s,V = linalg.svd(A) # SVD decomposition of A\n",
    "\n",
    "# computing the inverse using pinv\n",
    "pinv = linalg.pinv(A)\n",
    "# computing the inverse using the SVD decomposition\n",
    "pinv_svd = dot(dot(V.T,linalg.inv(diag(s))),U.T)\n",
    "\n",
    "print \"Inverse computed by lingal.pinv()\\n\",pinv\n",
    "print \"Inverse computed using SVD\\n\",pinv_svd"
   ]
  },
  {
   "cell_type": "code",
   "execution_count": null,
   "metadata": {
    "collapsed": true
   },
   "outputs": [],
   "source": []
  }
 ],
 "metadata": {
  "kernelspec": {
   "display_name": "Python 2",
   "language": "python",
   "name": "python2"
  },
  "language_info": {
   "codemirror_mode": {
    "name": "ipython",
    "version": 2
   },
   "file_extension": ".py",
   "mimetype": "text/x-python",
   "name": "python",
   "nbconvert_exporter": "python",
   "pygments_lexer": "ipython2",
   "version": "2.7.11"
  }
 },
 "nbformat": 4,
 "nbformat_minor": 0
}
